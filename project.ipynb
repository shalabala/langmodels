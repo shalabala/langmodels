{
 "cells": [
  {
   "cell_type": "code",
   "execution_count": 2,
   "metadata": {},
   "outputs": [],
   "source": [
    "from books_dataset import BooksDataset"
   ]
  },
  {
   "cell_type": "code",
   "execution_count": 3,
   "metadata": {},
   "outputs": [
    {
     "name": "stdout",
     "output_type": "stream",
     "text": [
      "910842096\n"
     ]
    }
   ],
   "source": [
    "dataset = BooksDataset(32, 'data/tokens.bin', \"data/vocab.txt\")\n",
    "\n",
    "print(len(dataset))"
   ]
  },
  {
   "cell_type": "code",
   "execution_count": 4,
   "metadata": {},
   "outputs": [
    {
     "name": "stdout",
     "output_type": "stream",
     "text": [
      "['usually', ',', 'he', 'would', 'be', 'tearing', 'around', 'the', 'living', 'room', ',', 'playing', 'with', 'his', 'toys', 'but', 'just', 'one', 'look', 'at', 'a', 'minion', 'sent', 'him', 'practically', 'catatonic', 'that', 'had', 'been', 'megan', \"'s\", 'plan']\n",
      "[',', 'he', 'would', 'be', 'tearing', 'around', 'the', 'living', 'room', ',', 'playing', 'with', 'his', 'toys', 'but', 'just', 'one', 'look', 'at', 'a', 'minion', 'sent', 'him', 'practically', 'catatonic', 'that', 'had', 'been', 'megan', \"'s\", 'plan', 'when']\n"
     ]
    }
   ],
   "source": [
    "item = dataset[0]\n",
    "print([dataset.vocab[i.item()] for i in item[0]])\n",
    "print([dataset.vocab[i.item()] for i in item[1]])"
   ]
  }
 ],
 "metadata": {
  "kernelspec": {
   "display_name": "myenv",
   "language": "python",
   "name": "python3"
  },
  "language_info": {
   "codemirror_mode": {
    "name": "ipython",
    "version": 3
   },
   "file_extension": ".py",
   "mimetype": "text/x-python",
   "name": "python",
   "nbconvert_exporter": "python",
   "pygments_lexer": "ipython3",
   "version": "3.10.15"
  }
 },
 "nbformat": 4,
 "nbformat_minor": 2
}
